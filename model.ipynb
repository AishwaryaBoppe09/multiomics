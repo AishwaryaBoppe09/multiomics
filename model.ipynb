{
 "cells": [
  {
   "cell_type": "markdown",
   "id": "da11d574",
   "metadata": {},
   "source": [
    "Imporrting Necessary Libraries"
   ]
  },
  {
   "cell_type": "code",
   "execution_count": 1,
   "id": "17a81634",
   "metadata": {},
   "outputs": [],
   "source": [
    "import pandas as pd\n",
    "import numpy as np\n",
    "import matplotlib.pyplot as plt\n",
    "import seaborn as sns\n",
    "from sklearn.model_selection import train_test_split\n",
    "from sklearn.preprocessing import StandardScaler\n",
    "from sklearn.metrics import mean_squared_error, r2_score\n",
    "import tensorflow as tf\n",
    "from tensorflow.keras.models import Sequential\n",
    "from tensorflow.keras.layers import Dense, Dropout\n"
   ]
  },
  {
   "cell_type": "markdown",
   "id": "c421bb89",
   "metadata": {},
   "source": [
    "Load Data"
   ]
  },
  {
   "cell_type": "code",
   "execution_count": 5,
   "id": "a190a7b2",
   "metadata": {},
   "outputs": [
    {
     "name": "stderr",
     "output_type": "stream",
     "text": [
      "c:\\Users\\LENOVO X1 CARBAN\\Desktop\\multiomics\\venv\\Lib\\site-packages\\openpyxl\\worksheet\\_reader.py:329: UserWarning: Unknown extension is not supported and will be removed\n",
      "  warn(msg)\n"
     ]
    },
    {
     "name": "stdout",
     "output_type": "stream",
     "text": [
      "  Sample Name  COSMIC identifier Whole Exome Sequencing (WES)  \\\n",
      "0        A253           906794.0                            Y   \n",
      "1    BB30-HNC           753531.0                            Y   \n",
      "2    BB49-HNC           753532.0                            Y   \n",
      "3         BHY           753535.0                            Y   \n",
      "4      BICR10          1290724.0                            Y   \n",
      "\n",
      "  Copy Number Alterations (CNA) Gene Expression Methylation Drug\\nResponse  \\\n",
      "0                             Y               Y           Y              Y   \n",
      "1                             Y               Y           Y              Y   \n",
      "2                             Y               Y           Y              Y   \n",
      "3                             Y               Y           Y              Y   \n",
      "4                             Y               Y           Y              Y   \n",
      "\n",
      "  GDSC\\nTissue descriptor 1 GDSC\\nTissue\\ndescriptor 2  \\\n",
      "0            aero_dig_tract              head and neck   \n",
      "1            aero_dig_tract              head and neck   \n",
      "2            aero_dig_tract              head and neck   \n",
      "3            aero_dig_tract              head and neck   \n",
      "4            aero_dig_tract              head and neck   \n",
      "\n",
      "  Cancer Type\\n(matching TCGA label)  \\\n",
      "0                                NaN   \n",
      "1                               HNSC   \n",
      "2                               HNSC   \n",
      "3                               HNSC   \n",
      "4                               HNSC   \n",
      "\n",
      "  Microsatellite \\ninstability Status (MSI) Screen Medium Growth Properties  \n",
      "0                                 MSS/MSI-L         D/F12          Adherent  \n",
      "1                                 MSS/MSI-L         D/F12          Adherent  \n",
      "2                                 MSS/MSI-L         D/F12          Adherent  \n",
      "3                                 MSS/MSI-L         D/F12          Adherent  \n",
      "4                                 MSS/MSI-L         D/F12          Adherent  \n",
      "  DATASET+R1A1:S13  NLME_RESULT_ID  NLME_CURVE_ID  COSMIC_ID CELL_LINE_NAME  \\\n",
      "0            GDSC1             342       15580432     684057            ES5   \n",
      "1            GDSC1             342       15580806     684059            ES7   \n",
      "2            GDSC1             342       15581198     684062          EW-11   \n",
      "3            GDSC1             342       15581542     684072        SK-ES-1   \n",
      "4            GDSC1             342       15581930     687448       COLO-829   \n",
      "\n",
      "  SANGER_MODEL_ID     TCGA_DESC  DRUG_ID  DRUG_NAME PUTATIVE_TARGET  \\\n",
      "0       SIDM00263  UNCLASSIFIED        1  Erlotinib            EGFR   \n",
      "1       SIDM00269  UNCLASSIFIED        1  Erlotinib            EGFR   \n",
      "2       SIDM00203  UNCLASSIFIED        1  Erlotinib            EGFR   \n",
      "3       SIDM01111  UNCLASSIFIED        1  Erlotinib            EGFR   \n",
      "4       SIDM00909          SKCM        1  Erlotinib            EGFR   \n",
      "\n",
      "     PATHWAY_NAME  COMPANY_ID WEBRELEASE  MIN_CONC  MAX_CONC   LN_IC50  \\\n",
      "0  EGFR signaling        1045          Y  0.007813       2.0  3.966813   \n",
      "1  EGFR signaling        1045          Y  0.007813       2.0  2.692090   \n",
      "2  EGFR signaling        1045          Y  0.007813       2.0  2.477990   \n",
      "3  EGFR signaling        1045          Y  0.007813       2.0  2.033564   \n",
      "4  EGFR signaling        1045          Y  0.007813       2.0  2.966007   \n",
      "\n",
      "        AUC      RMSE   Z_SCORE  \n",
      "0  0.985678  0.026081  1.299144  \n",
      "1  0.972690  0.110059  0.156076  \n",
      "2  0.944459  0.087019 -0.035912  \n",
      "3  0.950758  0.016290 -0.434437  \n",
      "4  0.954778  0.180255  0.401702  \n",
      "  DATASET  NLME_RESULT_ID  NLME_CURVE_ID  COSMIC_ID CELL_LINE_NAME  \\\n",
      "0   GDSC2             343       15946310     683667         PFSK-1   \n",
      "1   GDSC2             343       15946548     684052           A673   \n",
      "2   GDSC2             343       15946830     684057            ES5   \n",
      "3   GDSC2             343       15947087     684059            ES7   \n",
      "4   GDSC2             343       15947369     684062          EW-11   \n",
      "\n",
      "  SANGER_MODEL_ID     TCGA_DESC  DRUG_ID     DRUG_NAME PUTATIVE_TARGET  \\\n",
      "0       SIDM01132            MB     1003  Camptothecin            TOP1   \n",
      "1       SIDM00848  UNCLASSIFIED     1003  Camptothecin            TOP1   \n",
      "2       SIDM00263  UNCLASSIFIED     1003  Camptothecin            TOP1   \n",
      "3       SIDM00269  UNCLASSIFIED     1003  Camptothecin            TOP1   \n",
      "4       SIDM00203  UNCLASSIFIED     1003  Camptothecin            TOP1   \n",
      "\n",
      "      PATHWAY_NAME  COMPANY_ID WEBRELEASE  MIN_CONC  MAX_CONC   LN_IC50  \\\n",
      "0  DNA replication        1046          Y    0.0001       0.1 -1.463887   \n",
      "1  DNA replication        1046          Y    0.0001       0.1 -4.869455   \n",
      "2  DNA replication        1046          Y    0.0001       0.1 -3.360586   \n",
      "3  DNA replication        1046          Y    0.0001       0.1 -5.044940   \n",
      "4  DNA replication        1046          Y    0.0001       0.1 -3.741991   \n",
      "\n",
      "        AUC      RMSE   Z_SCORE  \n",
      "0  0.930220  0.089052  0.433123  \n",
      "1  0.614970  0.111351 -1.421100  \n",
      "2  0.791072  0.142855 -0.599569  \n",
      "3  0.592660  0.135539 -1.516647  \n",
      "4  0.734047  0.128059 -0.807232  \n"
     ]
    }
   ],
   "source": [
    "import pandas as pd\n",
    "\n",
    "# CCLE multi-omics features\n",
    "ccle = pd.read_excel(r\"Datasets\\Cell_Lines.xlsx\")  # using raw string for Windows path\n",
    "\n",
    "# GDSC drug response\n",
    "gdsc1 = pd.read_excel(r\"Datasets\\GDSC1.xlsx\")\n",
    "gdsc2 = pd.read_excel(r\"Datasets\\GDSC2.xlsx\")\n",
    "\n",
    "# inspect first few rows\n",
    "print(ccle.head())\n",
    "print(gdsc1.head())\n",
    "print(gdsc2.head())\n"
   ]
  },
  {
   "cell_type": "markdown",
   "id": "b5618178",
   "metadata": {},
   "source": [
    "Merging two datasets (GDSC1 & GDSC2) with Cell_Lines"
   ]
  },
  {
   "cell_type": "code",
   "execution_count": 6,
   "id": "106863dc",
   "metadata": {},
   "outputs": [],
   "source": [
    "# merge on COSMIC_ID or CELL_LINE_NAME\n",
    "merged_gdsc1 = pd.merge(gdsc1, ccle, left_on='COSMIC_ID', right_on='COSMIC identifier', how='inner')\n",
    "merged_gdsc2 = pd.merge(gdsc2, ccle, left_on='COSMIC_ID', right_on='COSMIC identifier', how='inner')\n"
   ]
  },
  {
   "cell_type": "markdown",
   "id": "3932ab7b",
   "metadata": {},
   "source": [
    "Visulization"
   ]
  },
  {
   "cell_type": "code",
   "execution_count": null,
   "id": "91f283db",
   "metadata": {},
   "outputs": [],
   "source": [
    "# Step 4 – Exploratory Visualization\n",
    "import matplotlib.pyplot as plt\n",
    "import seaborn as sns\n",
    "import pandas as pd\n",
    "\n",
    "# use your dataframe (replace if needed)\n",
    "data = merged_gdsc1  # or merged_gdsc2 / combined_data\n",
    "\n",
    "plt.style.use('seaborn-v0_8-whitegrid')\n",
    "\n",
    "# --- Top 10 most used drugs ---\n",
    "plt.figure(figsize=(8,5))\n",
    "top_drugs = data['DRUG_NAME'].value_counts().head(10)\n",
    "sns.barplot(y=top_drugs.index, x=top_drugs.values, palette='viridis')\n",
    "plt.title(\"Top 10 Most Tested Drugs in Dataset\")\n",
    "plt.xlabel(\"Number of Cell Line Tests\")\n",
    "plt.ylabel(\"Drug Name\")\n",
    "plt.show()\n",
    "\n",
    "# --- Top 10 cancer types ---\n",
    "plt.figure(figsize=(8,5))\n",
    "top_cancers = data['TCGA_DESC'].value_counts().head(10)\n",
    "sns.barplot(y=top_cancers.index, x=top_cancers.values, palette='magma')\n",
    "plt.title(\"Top 10 Cancer Types in Dataset\")\n",
    "plt.xlabel(\"Number of Cell Lines\")\n",
    "plt.ylabel(\"Cancer Type\")\n",
    "plt.show()\n",
    "\n",
    "# --- Drugs by percentage ---\n",
    "plt.figure(figsize=(6,6))\n",
    "drug_percent = (data['DRUG_NAME'].value_counts().head(8) / len(data)) * 100\n",
    "plt.pie(drug_percent, labels=drug_percent.index, autopct='%1.1f%%', startangle=140)\n",
    "plt.title(\"Top Drug Usage Percentage\")\n",
    "plt.show()\n",
    "\n",
    "# --- Subplots: overall view ---\n",
    "fig, axes = plt.subplots(1, 2, figsize=(15,6))\n",
    "\n",
    "sns.barplot(y=top_drugs.index, x=top_drugs.values, ax=axes[0], palette='plasma')\n",
    "axes[0].set_title(\"Top Drugs Tested\")\n",
    "axes[0].set_xlabel(\"Frequency\")\n",
    "axes[0].set_ylabel(\"\")\n",
    "\n",
    "sns.barplot(y=top_cancers.index, x=top_cancers.values, ax=axes[1], palette='coolwarm')\n",
    "axes[1].set_title(\"Top Cancer Types in Dataset\")\n",
    "axes[1].set_xlabel(\"Frequency\")\n",
    "axes[1].set_ylabel(\"\")\n",
    "\n",
    "plt.tight_layout()\n",
    "plt.show()\n"
   ]
  },
  {
   "cell_type": "code",
   "execution_count": null,
   "id": "f909ff98",
   "metadata": {},
   "outputs": [
    {
     "data": {
      "image/png": "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",
      "text/plain": [
       "<Figure size 640x480 with 1 Axes>"
      ]
     },
     "metadata": {},
     "output_type": "display_data"
    },
    {
     "data": {
      "image/png": "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",
      "text/plain": [
       "<Figure size 640x480 with 2 Axes>"
      ]
     },
     "metadata": {},
     "output_type": "display_data"
    }
   ],
   "source": [
    "import seaborn as sns\n",
    "import matplotlib.pyplot as plt\n",
    "import numpy as np\n",
    "\n",
    "# ---------- Distribution of IC50 ----------\n",
    "plt.figure(figsize=(10, 6))\n",
    "sns.histplot(merged_gdsc1['LN_IC50'].dropna(), kde=True, color='skyblue', bins=30)\n",
    "plt.title(\"Distribution of LN_IC50\", fontsize=16)\n",
    "plt.xlabel(\"LN_IC50\", fontsize=12)\n",
    "plt.ylabel(\"Frequency\", fontsize=12)\n",
    "plt.tight_layout()\n",
    "plt.show()\n",
    "\n",
    "# ---------- Correlation Heatmap of CCLE numeric features ----------\n",
    "numeric_cols = ccle.select_dtypes(include='number')\n",
    "\n",
    "if numeric_cols.shape[1] == 0:\n",
    "    print(\"No numeric columns found in CCLE dataset for correlation heatmap.\")\n",
    "else:\n",
    "    # Compute correlation and mask the upper triangle\n",
    "    corr = numeric_cols.corr()\n",
    "    mask = np.triu(np.ones_like(corr, dtype=bool))\n",
    "\n",
    "    plt.figure(figsize=(12, 10))\n",
    "    sns.heatmap(\n",
    "        corr, \n",
    "        mask=mask, \n",
    "        cmap=\"coolwarm\", \n",
    "        annot=True, \n",
    "        fmt=\".2f\", \n",
    "        linewidths=0.5, \n",
    "        cbar_kws={\"shrink\": 0.8},\n",
    "        square=True\n",
    "    )\n",
    "    plt.title(\"Correlation between Omics Features (CCLE)\", fontsize=16)\n",
    "    plt.xticks(rotation=45, ha='right')\n",
    "    plt.yticks(rotation=0)\n",
    "    plt.tight_layout()\n",
    "    plt.show()\n"
   ]
  },
  {
   "cell_type": "markdown",
   "id": "f8fefcb1",
   "metadata": {},
   "source": [
    "Preparing input(x) and output(y) data"
   ]
  },
  {
   "cell_type": "code",
   "execution_count": 10,
   "id": "13ff9865",
   "metadata": {},
   "outputs": [],
   "source": [
    "# select numeric omics features\n",
    "X = merged_gdsc1.select_dtypes(include=np.number).drop(columns=['LN_IC50','AUC','RMSE','Z_SCORE'])\n",
    "y = merged_gdsc1['LN_IC50']\n",
    "\n",
    "# split dataset\n",
    "X_train, X_test, y_train, y_test = train_test_split(X, y, test_size=0.2, random_state=42)\n",
    "\n",
    "# scale features\n",
    "scaler = StandardScaler()\n",
    "X_train = scaler.fit_transform(X_train)\n",
    "X_test = scaler.transform(X_test)\n"
   ]
  },
  {
   "cell_type": "markdown",
   "id": "b3763d35",
   "metadata": {},
   "source": [
    "Building Neural Network Model"
   ]
  },
  {
   "cell_type": "code",
   "execution_count": 11,
   "id": "e4013716",
   "metadata": {},
   "outputs": [
    {
     "name": "stderr",
     "output_type": "stream",
     "text": [
      "c:\\Users\\LENOVO X1 CARBAN\\Desktop\\multiomics\\venv\\Lib\\site-packages\\keras\\src\\layers\\core\\dense.py:92: UserWarning: Do not pass an `input_shape`/`input_dim` argument to a layer. When using Sequential models, prefer using an `Input(shape)` object as the first layer in the model instead.\n",
      "  super().__init__(activity_regularizer=activity_regularizer, **kwargs)\n"
     ]
    }
   ],
   "source": [
    "model = Sequential([\n",
    "    Dense(512, activation='relu', input_shape=(X_train.shape[1],)),\n",
    "    Dropout(0.3),\n",
    "    Dense(256, activation='relu'),\n",
    "    Dropout(0.2),\n",
    "    Dense(128, activation='relu'),\n",
    "    Dense(1)  # regression output for LN_IC50\n",
    "])\n",
    "\n",
    "model.compile(optimizer='adam', loss='mse', metrics=['mae'])\n"
   ]
  },
  {
   "cell_type": "markdown",
   "id": "751649f5",
   "metadata": {},
   "source": [
    "Training the Model"
   ]
  },
  {
   "cell_type": "code",
   "execution_count": null,
   "id": "41d7dba1",
   "metadata": {},
   "outputs": [
    {
     "name": "stdout",
     "output_type": "stream",
     "text": [
      "Epoch 1/100\n",
      "\u001b[1m6664/6664\u001b[0m \u001b[32m━━━━━━━━━━━━━━━━━━━━\u001b[0m\u001b[37m\u001b[0m \u001b[1m57s\u001b[0m 8ms/step - loss: 4.9767 - mae: 1.7790 - val_loss: 4.7339 - val_mae: 1.6940\n",
      "Epoch 2/100\n",
      "\u001b[1m6664/6664\u001b[0m \u001b[32m━━━━━━━━━━━━━━━━━━━━\u001b[0m\u001b[37m\u001b[0m \u001b[1m86s\u001b[0m 13ms/step - loss: 4.3950 - mae: 1.6800 - val_loss: 4.1676 - val_mae: 1.6433\n",
      "Epoch 3/100\n",
      "\u001b[1m6664/6664\u001b[0m \u001b[32m━━━━━━━━━━━━━━━━━━━━\u001b[0m\u001b[37m\u001b[0m \u001b[1m82s\u001b[0m 12ms/step - loss: 4.2694 - mae: 1.6537 - val_loss: 4.1209 - val_mae: 1.6466\n",
      "Epoch 4/100\n",
      "\u001b[1m6664/6664\u001b[0m \u001b[32m━━━━━━━━━━━━━━━━━━━━\u001b[0m\u001b[37m\u001b[0m \u001b[1m78s\u001b[0m 12ms/step - loss: 4.1901 - mae: 1.6357 - val_loss: 4.0260 - val_mae: 1.6097\n",
      "Epoch 5/100\n",
      "\u001b[1m6664/6664\u001b[0m \u001b[32m━━━━━━━━━━━━━━━━━━━━\u001b[0m\u001b[37m\u001b[0m \u001b[1m47s\u001b[0m 6ms/step - loss: 4.1099 - mae: 1.6192 - val_loss: 3.9984 - val_mae: 1.6109\n",
      "Epoch 6/100\n",
      "\u001b[1m6664/6664\u001b[0m \u001b[32m━━━━━━━━━━━━━━━━━━━━\u001b[0m\u001b[37m\u001b[0m \u001b[1m46s\u001b[0m 7ms/step - loss: 4.0680 - mae: 1.6099 - val_loss: 3.9058 - val_mae: 1.5817\n",
      "Epoch 7/100\n",
      "\u001b[1m6664/6664\u001b[0m \u001b[32m━━━━━━━━━━━━━━━━━━━━\u001b[0m\u001b[37m\u001b[0m \u001b[1m45s\u001b[0m 7ms/step - loss: 4.0248 - mae: 1.6000 - val_loss: 3.8497 - val_mae: 1.5753\n",
      "Epoch 8/100\n",
      "\u001b[1m6664/6664\u001b[0m \u001b[32m━━━━━━━━━━━━━━━━━━━━\u001b[0m\u001b[37m\u001b[0m \u001b[1m50s\u001b[0m 8ms/step - loss: 3.9788 - mae: 1.5903 - val_loss: 3.7958 - val_mae: 1.5612\n",
      "Epoch 9/100\n",
      "\u001b[1m6664/6664\u001b[0m \u001b[32m━━━━━━━━━━━━━━━━━━━━\u001b[0m\u001b[37m\u001b[0m \u001b[1m44s\u001b[0m 7ms/step - loss: 3.9231 - mae: 1.5779 - val_loss: 3.7558 - val_mae: 1.5604\n",
      "Epoch 10/100\n",
      "\u001b[1m6664/6664\u001b[0m \u001b[32m━━━━━━━━━━━━━━━━━━━━\u001b[0m\u001b[37m\u001b[0m \u001b[1m46s\u001b[0m 7ms/step - loss: 3.8999 - mae: 1.5718 - val_loss: 3.9253 - val_mae: 1.5890\n",
      "Epoch 11/100\n",
      "\u001b[1m6664/6664\u001b[0m \u001b[32m━━━━━━━━━━━━━━━━━━━━\u001b[0m\u001b[37m\u001b[0m \u001b[1m43s\u001b[0m 6ms/step - loss: 3.8649 - mae: 1.5641 - val_loss: 3.6967 - val_mae: 1.5286\n",
      "Epoch 12/100\n",
      "\u001b[1m6664/6664\u001b[0m \u001b[32m━━━━━━━━━━━━━━━━━━━━\u001b[0m\u001b[37m\u001b[0m \u001b[1m45s\u001b[0m 7ms/step - loss: 3.8432 - mae: 1.5577 - val_loss: 3.6437 - val_mae: 1.5265\n",
      "Epoch 13/100\n",
      "\u001b[1m6664/6664\u001b[0m \u001b[32m━━━━━━━━━━━━━━━━━━━━\u001b[0m\u001b[37m\u001b[0m \u001b[1m43s\u001b[0m 6ms/step - loss: 3.8209 - mae: 1.5531 - val_loss: 3.6275 - val_mae: 1.5182\n",
      "Epoch 14/100\n",
      "\u001b[1m6664/6664\u001b[0m \u001b[32m━━━━━━━━━━━━━━━━━━━━\u001b[0m\u001b[37m\u001b[0m \u001b[1m42s\u001b[0m 6ms/step - loss: 3.7861 - mae: 1.5453 - val_loss: 3.6233 - val_mae: 1.5171\n",
      "Epoch 15/100\n",
      "\u001b[1m6664/6664\u001b[0m \u001b[32m━━━━━━━━━━━━━━━━━━━━\u001b[0m\u001b[37m\u001b[0m \u001b[1m41s\u001b[0m 6ms/step - loss: 3.7842 - mae: 1.5444 - val_loss: 3.6848 - val_mae: 1.5322\n",
      "Epoch 16/100\n",
      "\u001b[1m6664/6664\u001b[0m \u001b[32m━━━━━━━━━━━━━━━━━━━━\u001b[0m\u001b[37m\u001b[0m \u001b[1m105s\u001b[0m 10ms/step - loss: 3.7717 - mae: 1.5408 - val_loss: 3.5784 - val_mae: 1.5009\n",
      "Epoch 17/100\n",
      "\u001b[1m6664/6664\u001b[0m \u001b[32m━━━━━━━━━━━━━━━━━━━━\u001b[0m\u001b[37m\u001b[0m \u001b[1m59s\u001b[0m 9ms/step - loss: 3.7381 - mae: 1.5342 - val_loss: 3.5465 - val_mae: 1.5024\n",
      "Epoch 18/100\n",
      "\u001b[1m6664/6664\u001b[0m \u001b[32m━━━━━━━━━━━━━━━━━━━━\u001b[0m\u001b[37m\u001b[0m \u001b[1m79s\u001b[0m 8ms/step - loss: 3.7299 - mae: 1.5321 - val_loss: 3.6914 - val_mae: 1.5357\n",
      "Epoch 19/100\n",
      "\u001b[1m6664/6664\u001b[0m \u001b[32m━━━━━━━━━━━━━━━━━━━━\u001b[0m\u001b[37m\u001b[0m \u001b[1m57s\u001b[0m 9ms/step - loss: 3.7054 - mae: 1.5263 - val_loss: 3.6469 - val_mae: 1.5229\n",
      "Epoch 20/100\n",
      "\u001b[1m6664/6664\u001b[0m \u001b[32m━━━━━━━━━━━━━━━━━━━━\u001b[0m\u001b[37m\u001b[0m \u001b[1m58s\u001b[0m 9ms/step - loss: 3.6997 - mae: 1.5246 - val_loss: 3.5711 - val_mae: 1.4979\n",
      "Epoch 21/100\n",
      "\u001b[1m6664/6664\u001b[0m \u001b[32m━━━━━━━━━━━━━━━━━━━━\u001b[0m\u001b[37m\u001b[0m \u001b[1m52s\u001b[0m 8ms/step - loss: 3.6876 - mae: 1.5225 - val_loss: 3.5024 - val_mae: 1.4921\n",
      "Epoch 22/100\n",
      "\u001b[1m6664/6664\u001b[0m \u001b[32m━━━━━━━━━━━━━━━━━━━━\u001b[0m\u001b[37m\u001b[0m \u001b[1m50s\u001b[0m 8ms/step - loss: 3.6752 - mae: 1.5195 - val_loss: 3.5008 - val_mae: 1.4809\n",
      "Epoch 23/100\n",
      "\u001b[1m6664/6664\u001b[0m \u001b[32m━━━━━━━━━━━━━━━━━━━━\u001b[0m\u001b[37m\u001b[0m \u001b[1m51s\u001b[0m 8ms/step - loss: 3.6626 - mae: 1.5151 - val_loss: 3.5584 - val_mae: 1.5042\n",
      "Epoch 24/100\n",
      "\u001b[1m6664/6664\u001b[0m \u001b[32m━━━━━━━━━━━━━━━━━━━━\u001b[0m\u001b[37m\u001b[0m \u001b[1m52s\u001b[0m 8ms/step - loss: 3.6497 - mae: 1.5125 - val_loss: 3.5548 - val_mae: 1.4981\n",
      "Epoch 25/100\n",
      "\u001b[1m6664/6664\u001b[0m \u001b[32m━━━━━━━━━━━━━━━━━━━━\u001b[0m\u001b[37m\u001b[0m \u001b[1m51s\u001b[0m 8ms/step - loss: 3.6492 - mae: 1.5126 - val_loss: 3.6057 - val_mae: 1.5051\n",
      "Epoch 26/100\n",
      "\u001b[1m6664/6664\u001b[0m \u001b[32m━━━━━━━━━━━━━━━━━━━━\u001b[0m\u001b[37m\u001b[0m \u001b[1m52s\u001b[0m 8ms/step - loss: 3.6362 - mae: 1.5089 - val_loss: 3.4734 - val_mae: 1.4755\n",
      "Epoch 27/100\n",
      "\u001b[1m6664/6664\u001b[0m \u001b[32m━━━━━━━━━━━━━━━━━━━━\u001b[0m\u001b[37m\u001b[0m \u001b[1m80s\u001b[0m 8ms/step - loss: 3.6202 - mae: 1.5065 - val_loss: 3.5071 - val_mae: 1.4820\n",
      "Epoch 28/100\n",
      "\u001b[1m6664/6664\u001b[0m \u001b[32m━━━━━━━━━━━━━━━━━━━━\u001b[0m\u001b[37m\u001b[0m \u001b[1m51s\u001b[0m 8ms/step - loss: 3.6086 - mae: 1.5026 - val_loss: 3.5740 - val_mae: 1.4931\n",
      "Epoch 29/100\n",
      "\u001b[1m6664/6664\u001b[0m \u001b[32m━━━━━━━━━━━━━━━━━━━━\u001b[0m\u001b[37m\u001b[0m \u001b[1m52s\u001b[0m 8ms/step - loss: 3.6114 - mae: 1.5030 - val_loss: 3.5672 - val_mae: 1.4861\n",
      "Epoch 30/100\n",
      "\u001b[1m6664/6664\u001b[0m \u001b[32m━━━━━━━━━━━━━━━━━━━━\u001b[0m\u001b[37m\u001b[0m \u001b[1m81s\u001b[0m 8ms/step - loss: 3.5925 - mae: 1.4985 - val_loss: 3.5299 - val_mae: 1.4973\n",
      "Epoch 31/100\n",
      "\u001b[1m6664/6664\u001b[0m \u001b[32m━━━━━━━━━━━━━━━━━━━━\u001b[0m\u001b[37m\u001b[0m \u001b[1m52s\u001b[0m 8ms/step - loss: 3.5944 - mae: 1.4999 - val_loss: 3.5224 - val_mae: 1.4870\n",
      "Epoch 32/100\n",
      "\u001b[1m6664/6664\u001b[0m \u001b[32m━━━━━━━━━━━━━━━━━━━━\u001b[0m\u001b[37m\u001b[0m \u001b[1m50s\u001b[0m 7ms/step - loss: 3.5829 - mae: 1.4968 - val_loss: 3.5100 - val_mae: 1.4871\n",
      "Epoch 33/100\n",
      "\u001b[1m6664/6664\u001b[0m \u001b[32m━━━━━━━━━━━━━━━━━━━━\u001b[0m\u001b[37m\u001b[0m \u001b[1m53s\u001b[0m 8ms/step - loss: 3.5781 - mae: 1.4946 - val_loss: 3.6165 - val_mae: 1.4950\n",
      "Epoch 34/100\n",
      "\u001b[1m6664/6664\u001b[0m \u001b[32m━━━━━━━━━━━━━━━━━━━━\u001b[0m\u001b[37m\u001b[0m \u001b[1m52s\u001b[0m 8ms/step - loss: 3.5678 - mae: 1.4930 - val_loss: 3.4527 - val_mae: 1.4704\n",
      "Epoch 35/100\n",
      "\u001b[1m6664/6664\u001b[0m \u001b[32m━━━━━━━━━━━━━━━━━━━━\u001b[0m\u001b[37m\u001b[0m \u001b[1m53s\u001b[0m 8ms/step - loss: 3.5768 - mae: 1.4933 - val_loss: 3.5258 - val_mae: 1.4835\n",
      "Epoch 36/100\n",
      "\u001b[1m6664/6664\u001b[0m \u001b[32m━━━━━━━━━━━━━━━━━━━━\u001b[0m\u001b[37m\u001b[0m \u001b[1m52s\u001b[0m 8ms/step - loss: 3.5669 - mae: 1.4917 - val_loss: 3.5063 - val_mae: 1.4817\n",
      "Epoch 37/100\n",
      "\u001b[1m6664/6664\u001b[0m \u001b[32m━━━━━━━━━━━━━━━━━━━━\u001b[0m\u001b[37m\u001b[0m \u001b[1m65s\u001b[0m 10ms/step - loss: 3.5558 - mae: 1.4889 - val_loss: 3.4431 - val_mae: 1.4701\n",
      "Epoch 38/100\n",
      "\u001b[1m6664/6664\u001b[0m \u001b[32m━━━━━━━━━━━━━━━━━━━━\u001b[0m\u001b[37m\u001b[0m \u001b[1m68s\u001b[0m 10ms/step - loss: 3.5514 - mae: 1.4877 - val_loss: 3.5451 - val_mae: 1.4981\n",
      "Epoch 39/100\n",
      "\u001b[1m6664/6664\u001b[0m \u001b[32m━━━━━━━━━━━━━━━━━━━━\u001b[0m\u001b[37m\u001b[0m \u001b[1m79s\u001b[0m 10ms/step - loss: 3.5460 - mae: 1.4880 - val_loss: 3.5009 - val_mae: 1.4890\n",
      "Epoch 40/100\n",
      "\u001b[1m6664/6664\u001b[0m \u001b[32m━━━━━━━━━━━━━━━━━━━━\u001b[0m\u001b[37m\u001b[0m \u001b[1m64s\u001b[0m 10ms/step - loss: 3.5467 - mae: 1.4876 - val_loss: 3.4493 - val_mae: 1.4715\n",
      "Epoch 41/100\n",
      "\u001b[1m6664/6664\u001b[0m \u001b[32m━━━━━━━━━━━━━━━━━━━━\u001b[0m\u001b[37m\u001b[0m \u001b[1m83s\u001b[0m 10ms/step - loss: 3.5340 - mae: 1.4848 - val_loss: 3.4556 - val_mae: 1.4691\n",
      "Epoch 42/100\n",
      "\u001b[1m6664/6664\u001b[0m \u001b[32m━━━━━━━━━━━━━━━━━━━━\u001b[0m\u001b[37m\u001b[0m \u001b[1m73s\u001b[0m 11ms/step - loss: 3.5309 - mae: 1.4839 - val_loss: 3.6052 - val_mae: 1.4945\n",
      "Epoch 43/100\n",
      "\u001b[1m6664/6664\u001b[0m \u001b[32m━━━━━━━━━━━━━━━━━━━━\u001b[0m\u001b[37m\u001b[0m \u001b[1m66s\u001b[0m 9ms/step - loss: 3.5296 - mae: 1.4822 - val_loss: 3.4667 - val_mae: 1.4708\n",
      "Epoch 44/100\n",
      "\u001b[1m6664/6664\u001b[0m \u001b[32m━━━━━━━━━━━━━━━━━━━━\u001b[0m\u001b[37m\u001b[0m \u001b[1m64s\u001b[0m 10ms/step - loss: 3.5198 - mae: 1.4803 - val_loss: 3.5511 - val_mae: 1.4858\n",
      "Epoch 45/100\n",
      "\u001b[1m6664/6664\u001b[0m \u001b[32m━━━━━━━━━━━━━━━━━━━━\u001b[0m\u001b[37m\u001b[0m \u001b[1m152s\u001b[0m 20ms/step - loss: 3.5245 - mae: 1.4824 - val_loss: 3.5203 - val_mae: 1.4762\n",
      "Epoch 46/100\n",
      "\u001b[1m6664/6664\u001b[0m \u001b[32m━━━━━━━━━━━━━━━━━━━━\u001b[0m\u001b[37m\u001b[0m \u001b[1m84s\u001b[0m 11ms/step - loss: 3.5122 - mae: 1.4783 - val_loss: 3.6811 - val_mae: 1.5110\n",
      "Epoch 47/100\n",
      "\u001b[1m6664/6664\u001b[0m \u001b[32m━━━━━━━━━━━━━━━━━━━━\u001b[0m\u001b[37m\u001b[0m \u001b[1m98s\u001b[0m 14ms/step - loss: 3.5207 - mae: 1.4796 - val_loss: 3.6278 - val_mae: 1.4985\n",
      "Epoch 48/100\n",
      "\u001b[1m6664/6664\u001b[0m \u001b[32m━━━━━━━━━━━━━━━━━━━━\u001b[0m\u001b[37m\u001b[0m \u001b[1m148s\u001b[0m 15ms/step - loss: 3.5210 - mae: 1.4806 - val_loss: 3.5128 - val_mae: 1.4769\n",
      "Epoch 49/100\n",
      "\u001b[1m6664/6664\u001b[0m \u001b[32m━━━━━━━━━━━━━━━━━━━━\u001b[0m\u001b[37m\u001b[0m \u001b[1m125s\u001b[0m 12ms/step - loss: 3.5130 - mae: 1.4779 - val_loss: 3.4202 - val_mae: 1.4641\n",
      "Epoch 50/100\n",
      "\u001b[1m6662/6664\u001b[0m \u001b[32m━━━━━━━━━━━━━━━━━━━\u001b[0m\u001b[37m━\u001b[0m \u001b[1m0s\u001b[0m 10ms/step - loss: 3.5167 - mae: 1.4788"
     ]
    }
   ],
   "source": [
    "history = model.fit(X_train, y_train, validation_split=0.2, epochs=100, batch_size=32)\n"
   ]
  },
  {
   "cell_type": "markdown",
   "id": "52401cfb",
   "metadata": {},
   "source": [
    "Visulization of Training History"
   ]
  },
  {
   "cell_type": "code",
   "execution_count": null,
   "id": "08cf3652",
   "metadata": {},
   "outputs": [],
   "source": [
    "# Loss\n",
    "plt.plot(history.history['loss'], label='train_loss')\n",
    "plt.plot(history.history['val_loss'], label='val_loss')\n",
    "plt.xlabel(\"Epochs\")\n",
    "plt.ylabel(\"MSE Loss\")\n",
    "plt.legend()\n",
    "plt.show()\n",
    "\n",
    "# MAE\n",
    "plt.plot(history.history['mae'], label='train_mae')\n",
    "plt.plot(history.history['val_mae'], label='val_mae')\n",
    "plt.xlabel(\"Epochs\")\n",
    "plt.ylabel(\"MAE\")\n",
    "plt.legend()\n",
    "plt.show()\n"
   ]
  },
  {
   "cell_type": "markdown",
   "id": "8d2b0b30",
   "metadata": {},
   "source": [
    "Evaluating Model"
   ]
  },
  {
   "cell_type": "code",
   "execution_count": null,
   "id": "bdfc6cfd",
   "metadata": {},
   "outputs": [],
   "source": [
    "y_pred = model.predict(X_test)\n",
    "mse = mean_squared_error(y_test, y_pred)\n",
    "r2 = r2_score(y_test, y_pred)\n",
    "print(\"Test MSE:\", mse)\n",
    "print(\"Test R2:\", r2)\n"
   ]
  },
  {
   "cell_type": "markdown",
   "id": "a184b27a",
   "metadata": {},
   "source": [
    "Predictiong Patients Data"
   ]
  },
  {
   "cell_type": "code",
   "execution_count": null,
   "id": "34641506",
   "metadata": {},
   "outputs": [],
   "source": [
    "# patient multi-omics dataframe (same columns as X)\n",
    "patient_X = pd.read_csv(\"patient_multiomics.csv\")\n",
    "patient_X_scaled = scaler.transform(patient_X)\n",
    "patient_IC50 = model.predict(patient_X_scaled)\n",
    "\n",
    "# rank drugs by predicted IC50\n",
    "drug_prediction = pd.DataFrame({'Drug': patient_X['Drug_Name'], 'Predicted_IC50': patient_IC50.flatten()})\n",
    "drug_prediction = drug_prediction.sort_values('Predicted_IC50')\n",
    "print(drug_prediction)\n"
   ]
  },
  {
   "cell_type": "markdown",
   "id": "9264fd84",
   "metadata": {},
   "source": []
  }
 ],
 "metadata": {
  "kernelspec": {
   "display_name": "venv (3.12.4)",
   "language": "python",
   "name": "python3"
  },
  "language_info": {
   "codemirror_mode": {
    "name": "ipython",
    "version": 3
   },
   "file_extension": ".py",
   "mimetype": "text/x-python",
   "name": "python",
   "nbconvert_exporter": "python",
   "pygments_lexer": "ipython3",
   "version": "3.12.4"
  }
 },
 "nbformat": 4,
 "nbformat_minor": 5
}
 